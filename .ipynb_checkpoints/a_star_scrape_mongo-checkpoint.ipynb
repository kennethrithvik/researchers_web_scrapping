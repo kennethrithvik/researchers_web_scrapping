{
 "cells": [
  {
   "cell_type": "code",
   "execution_count": 27,
   "metadata": {
    "collapsed": true
   },
   "outputs": [],
   "source": [
    "import requests \n",
    "from bs4 import BeautifulSoup as soup\n",
    "import re\n",
    "import numpy as np\n",
    "import pandas as pd\n",
    "user_ids=pd.read_csv('./userid.csv');\n"
   ]
  },
  {
   "cell_type": "code",
   "execution_count": 119,
   "metadata": {
    "collapsed": true
   },
   "outputs": [
    {
     "name": "stdout",
     "output_type": "stream",
     "text": [
      "[]\n",
      "[]\n",
      "[]\n",
      "[]\n",
      "[]\n",
      "[]\n",
      "[]\n",
      "[{'country': 'United States', 'number': 'PCT/SG2005/000410', 'year_awarded': '', 'title': 'Method and Device for Extracting and/or Collecting Blood from Placenta and/or Umbilical Cord'}, {'country': 'United States', 'number': 'WO 2005/005624 A1', 'year_awarded': '', 'title': 'Method of Enucleation and Oocyte Activation in Somatic Cell Nuclear Transfer in Primates'}, {'country': 'United States', 'number': 'US Patent No. 6,548,544', 'year_awarded': '', 'title': 'Method of treatment of priapism without raising systemic blood pressure'}]\n",
      "[]\n",
      "[]\n",
      "[]\n",
      "[]\n",
      "[]\n",
      "[{'country': 'International', 'number': '6,544,923 B1', 'year_awarded': '', 'title': 'Surface-Confined Catalytic Compositions'}, {'country': 'International', 'number': '6,489,258', 'year_awarded': '', 'title': 'Synthesis and Application of Vapor-Grafted Porous Materials'}, {'country': 'International', 'number': '6,413,489', 'year_awarded': '', 'title': 'Synthesis of Nanometer-sized Particles by Reverse Micelle Mediated Techniques'}, {'country': 'International', 'number': '6,359,288', 'year_awarded': '', 'title': 'Nanowire Arrays'}, {'country': 'International', 'number': '6,231,744', 'year_awarded': '', 'title': 'A Process for Fabricating an Array of Nanowires'}, {'country': 'International', 'number': '6,210,649', 'year_awarded': '', 'title': 'Metal Oxide Catalysts for Nitric Oxide Reduction'}, {'country': 'International', 'number': '6,028,025', 'year_awarded': '', 'title': 'Metalloporphyrin Oxidation Catalyst Covalently Coupled to an Inorganic Surface and Method of Making Same'}, {'country': 'International', 'number': '6,013,591', 'year_awarded': '', 'title': 'Nanocrystalline Apatites and Composites, Prostheses Incorporating Them, and Method for Their Production'}, {'country': 'International', 'number': '5,958,367', 'year_awarded': '', 'title': 'Composition and Methods for Preparing Porous Metal Oxides'}]\n",
      "[]\n",
      "[]\n",
      "[]\n",
      "[]\n",
      "[{'country': 'Singapore', 'number': 'Singapore 95307 / 200301067-5', 'year_awarded': '2005', 'title': 'Novel Protein Tyrosine Phosphatase inhibitor'}, {'country': 'International', 'number': 'EP 0 648 123 B1', 'year_awarded': '', 'title': 'PTPa as diagnostic or prognostic marker'}]\n",
      "[]\n",
      "[]\n",
      "[{'country': 'International', 'number': '20030168338', 'year_awarded': '', 'title': 'Electrodeposition of redox polymers and co-electrodeposition of enzymes by coordinative crosslinking'}, {'country': 'International', 'number': '9801487-1', 'year_awarded': '', 'title': 'METHOD FOR PREPARING A CATHODE MATERIAL AND ELECTROCHEMICAL CELL HAVING A CATHODE BASED ON SAME'}, {'country': 'International', 'number': '9803903-5', 'year_awarded': '', 'title': 'A NOVEL METHOD OF CHROMIUM PLATING FROM TRIVALENT CHROMIUM'}, {'country': 'International', 'number': '9801487-1', 'year_awarded': '', 'title': 'METHOD FOR PREPARING A CATHODE MATERIAL AND ELECTROCHEMICAL CELL HAVING A CATHODE BASED ON SAME'}, {'country': 'International', 'number': '9703616-4', 'year_awarded': '', 'title': 'A NOVEL METHOD OF DECORATIVE CHROMIUM PLATING FROM TRIVALENT CHROMIUM'}]\n",
      "[{'country': 'International', 'number': 'Application# 200300154-2', 'year_awarded': '', 'title': 'Biodegradable Polymer and A Nucleic Acid Delivery System'}, {'country': 'International', 'number': 'Application# 10/407,009', 'year_awarded': '', 'title': 'A promoter construct for gene expression in neuronal cells'}, {'country': 'International', 'number': 'Application# 10/328,930', 'year_awarded': '', 'title': 'Medical guide tubes'}, {'country': 'International', 'number': 'Application# 10/000,297', 'year_awarded': '', 'title': 'Polyphosphoester nerve guide conduits'}, {'country': 'International', 'number': 'Application# 200007447-6', 'year_awarded': '', 'title': 'A polymer and nerve guide conduits formed thereof'}]\n",
      "[{'country': 'International', 'number': '', 'year_awarded': '', 'title': 'Nanostructured thermosensitive membranes as wound dressing'}, {'country': 'International', 'number': 'IMR/P//1333/US', 'year_awarded': '', 'title': 'Sustained release formulation for carbamates and a method therefore'}, {'country': 'International', 'number': 'Singapore Application No. 200207309-6', 'year_awarded': '', 'title': 'Improved temperature sensitive micelles'}, {'country': 'International', 'number': 'International Application No. PCT/Sg00/00017', 'year_awarded': '', 'title': 'Biodegradable and biocompatible polymeric microspheres encapsulating Salmonella Enteritidis bacteria'}]\n",
      "[{'country': 'United States', 'number': '', 'year_awarded': '', 'title': 'Complex coacervating microfluidics for the immobilization of cells within micropatterned matrices'}, {'country': 'United States', 'number': '', 'year_awarded': '', 'title': 'Macroencapsulation of cells in 3D scaffolds by Polyelectrolyte Complex Coacervation'}, {'country': 'United States', 'number': '', 'year_awarded': '', 'title': 'Device for small-scaled encapsulation of animal cells'}, {'country': 'United States', 'number': '', 'year_awarded': '', 'title': 'Heptocyte Encapsulation in Two Layer Polymeric Membrane.'}, {'country': 'United States', 'number': '', 'year_awarded': '', 'title': 'Nerve Guide Conduit With Phosphoester'}, {'country': 'United States', 'number': '', 'year_awarded': '', 'title': 'Polyrotaxanes Hydrogel Based Gene Delivery System.'}, {'country': 'United States', 'number': '', 'year_awarded': '', 'title': 'Injectable Drug Delivery Systems With Cyclodextrin-Polymer Hydrogels.'}, {'country': 'United States', 'number': '', 'year_awarded': '', 'title': 'Multi-layer Cell Encapsulation For Tissue Engineering Applications.'}]\n",
      "[{'country': 'International', 'number': '', 'year_awarded': '', 'title': 'Markers for preparing and characterizing high-quality human embryonic stem cells'}, {'country': 'International', 'number': '', 'year_awarded': '', 'title': 'Agonists and Antagonists of Peripheral-Type Benzodiazepine Receptor'}, {'country': 'International', 'number': '', 'year_awarded': '', 'title': 'Treatment of Disease Involving Cyst Formation'}, {'country': 'International', 'number': '', 'year_awarded': '', 'title': 'Methods of Gene Mapping and Disease Diagnoses'}, {'country': 'International', 'number': '', 'year_awarded': '', 'title': 'Methods for Detection and Use of Differentially Expressed Genes in Disease States'}, {'country': 'International', 'number': '', 'year_awarded': '', 'title': 'Mediators of Signal Transduction in Cardiovascular Disease'}]\n",
      "[]\n",
      "[]\n",
      "[{'country': 'International', 'number': '60/454,115', 'year_awarded': '2004', 'title': 'Detection of severe acute respiratory syndrome by the polymerase chain reaction. Inventors: Ren E.C. Hibberd M. Ng L.F.P. \\r\\n\\r\\nLicense Agreement: Roche Diagnostics, SARS detection.'}]\n"
     ]
    },
    {
     "ename": "KeyboardInterrupt",
     "evalue": "",
     "output_type": "error",
     "traceback": [
      "\u001b[0;31m---------------------------------------------------------------------------\u001b[0m",
      "\u001b[0;31mKeyboardInterrupt\u001b[0m                         Traceback (most recent call last)",
      "\u001b[0;32m<ipython-input-119-818a68589a3c>\u001b[0m in \u001b[0;36m<module>\u001b[0;34m()\u001b[0m\n\u001b[1;32m      4\u001b[0m         \u001b[0murl\u001b[0m\u001b[0;34m=\u001b[0m\u001b[0murl_base\u001b[0m\u001b[0;34m+\u001b[0m\u001b[0mstr\u001b[0m\u001b[0;34m(\u001b[0m\u001b[0mid\u001b[0m\u001b[0;34m)\u001b[0m\u001b[0;34m\u001b[0m\u001b[0m\n\u001b[1;32m      5\u001b[0m         \u001b[0mhtml_page\u001b[0m \u001b[0;34m=\u001b[0m \u001b[0mrequests\u001b[0m\u001b[0;34m.\u001b[0m\u001b[0mget\u001b[0m\u001b[0;34m(\u001b[0m\u001b[0murl\u001b[0m\u001b[0;34m)\u001b[0m\u001b[0;34m\u001b[0m\u001b[0m\n\u001b[0;32m----> 6\u001b[0;31m         \u001b[0msoup_data\u001b[0m \u001b[0;34m=\u001b[0m \u001b[0msoup\u001b[0m\u001b[0;34m(\u001b[0m\u001b[0mhtml_page\u001b[0m\u001b[0;34m.\u001b[0m\u001b[0mcontent\u001b[0m\u001b[0;34m,\u001b[0m\u001b[0;34m'html.parser'\u001b[0m\u001b[0;34m)\u001b[0m\u001b[0;34m\u001b[0m\u001b[0m\n\u001b[0m\u001b[1;32m      7\u001b[0m         \u001b[0mcontainer\u001b[0m \u001b[0;34m=\u001b[0m \u001b[0msoup_data\u001b[0m\u001b[0;34m.\u001b[0m\u001b[0mfind\u001b[0m\u001b[0;34m(\u001b[0m\u001b[0;34m'div'\u001b[0m\u001b[0;34m,\u001b[0m\u001b[0;34m{\u001b[0m\u001b[0;34m'id'\u001b[0m\u001b[0;34m:\u001b[0m\u001b[0;34m'dnn_ctr429_UserProfile_profile'\u001b[0m\u001b[0;34m}\u001b[0m\u001b[0;34m)\u001b[0m\u001b[0;34m\u001b[0m\u001b[0m\n\u001b[1;32m      8\u001b[0m         \u001b[0;32mif\u001b[0m \u001b[0msoup_data\u001b[0m\u001b[0;34m.\u001b[0m\u001b[0mfind\u001b[0m\u001b[0;34m(\u001b[0m\u001b[0;34m'span'\u001b[0m\u001b[0;34m,\u001b[0m\u001b[0;34m{\u001b[0m\u001b[0;34m'id'\u001b[0m\u001b[0;34m:\u001b[0m\u001b[0;34m'dnn_ctr429_UserProfile_lblUserProfile'\u001b[0m\u001b[0;34m}\u001b[0m\u001b[0;34m)\u001b[0m\u001b[0;34m.\u001b[0m\u001b[0mfind\u001b[0m\u001b[0;34m(\u001b[0m\u001b[0;34m'b'\u001b[0m\u001b[0;34m)\u001b[0m\u001b[0;34m:\u001b[0m\u001b[0;34m\u001b[0m\u001b[0m\n",
      "\u001b[0;32m/home/kenny/anaconda3/envs/plural/lib/python2.7/site-packages/bs4/__init__.pyc\u001b[0m in \u001b[0;36m__init__\u001b[0;34m(self, markup, features, builder, parse_only, from_encoding, exclude_encodings, **kwargs)\u001b[0m\n\u001b[1;32m    223\u001b[0m          \u001b[0mself\u001b[0m\u001b[0;34m.\u001b[0m\u001b[0mcontains_replacement_characters\u001b[0m\u001b[0;34m)\u001b[0m \u001b[0;32min\u001b[0m \u001b[0;34m(\u001b[0m\u001b[0;34m\u001b[0m\u001b[0m\n\u001b[1;32m    224\u001b[0m              self.builder.prepare_markup(\n\u001b[0;32m--> 225\u001b[0;31m                  markup, from_encoding, exclude_encodings=exclude_encodings)):\n\u001b[0m\u001b[1;32m    226\u001b[0m             \u001b[0mself\u001b[0m\u001b[0;34m.\u001b[0m\u001b[0mreset\u001b[0m\u001b[0;34m(\u001b[0m\u001b[0;34m)\u001b[0m\u001b[0;34m\u001b[0m\u001b[0m\n\u001b[1;32m    227\u001b[0m             \u001b[0;32mtry\u001b[0m\u001b[0;34m:\u001b[0m\u001b[0;34m\u001b[0m\u001b[0m\n",
      "\u001b[0;32m/home/kenny/anaconda3/envs/plural/lib/python2.7/site-packages/bs4/builder/_htmlparser.pyc\u001b[0m in \u001b[0;36mprepare_markup\u001b[0;34m(self, markup, user_specified_encoding, document_declared_encoding, exclude_encodings)\u001b[0m\n\u001b[1;32m    203\u001b[0m         \u001b[0mtry_encodings\u001b[0m \u001b[0;34m=\u001b[0m \u001b[0;34m[\u001b[0m\u001b[0muser_specified_encoding\u001b[0m\u001b[0;34m,\u001b[0m \u001b[0mdocument_declared_encoding\u001b[0m\u001b[0;34m]\u001b[0m\u001b[0;34m\u001b[0m\u001b[0m\n\u001b[1;32m    204\u001b[0m         dammit = UnicodeDammit(markup, try_encodings, is_html=True,\n\u001b[0;32m--> 205\u001b[0;31m                                exclude_encodings=exclude_encodings)\n\u001b[0m\u001b[1;32m    206\u001b[0m         yield (dammit.markup, dammit.original_encoding,\n\u001b[1;32m    207\u001b[0m                \u001b[0mdammit\u001b[0m\u001b[0;34m.\u001b[0m\u001b[0mdeclared_html_encoding\u001b[0m\u001b[0;34m,\u001b[0m\u001b[0;34m\u001b[0m\u001b[0m\n",
      "\u001b[0;32m/home/kenny/anaconda3/envs/plural/lib/python2.7/site-packages/bs4/dammit.pyc\u001b[0m in \u001b[0;36m__init__\u001b[0;34m(self, markup, override_encodings, smart_quotes_to, is_html, exclude_encodings)\u001b[0m\n\u001b[1;32m    364\u001b[0m \u001b[0;34m\u001b[0m\u001b[0m\n\u001b[1;32m    365\u001b[0m         \u001b[0mu\u001b[0m \u001b[0;34m=\u001b[0m \u001b[0mNone\u001b[0m\u001b[0;34m\u001b[0m\u001b[0m\n\u001b[0;32m--> 366\u001b[0;31m         \u001b[0;32mfor\u001b[0m \u001b[0mencoding\u001b[0m \u001b[0;32min\u001b[0m \u001b[0mself\u001b[0m\u001b[0;34m.\u001b[0m\u001b[0mdetector\u001b[0m\u001b[0;34m.\u001b[0m\u001b[0mencodings\u001b[0m\u001b[0;34m:\u001b[0m\u001b[0;34m\u001b[0m\u001b[0m\n\u001b[0m\u001b[1;32m    367\u001b[0m             \u001b[0mmarkup\u001b[0m \u001b[0;34m=\u001b[0m \u001b[0mself\u001b[0m\u001b[0;34m.\u001b[0m\u001b[0mdetector\u001b[0m\u001b[0;34m.\u001b[0m\u001b[0mmarkup\u001b[0m\u001b[0;34m\u001b[0m\u001b[0m\n\u001b[1;32m    368\u001b[0m             \u001b[0mu\u001b[0m \u001b[0;34m=\u001b[0m \u001b[0mself\u001b[0m\u001b[0;34m.\u001b[0m\u001b[0m_convert_from\u001b[0m\u001b[0;34m(\u001b[0m\u001b[0mencoding\u001b[0m\u001b[0;34m)\u001b[0m\u001b[0;34m\u001b[0m\u001b[0m\n",
      "\u001b[0;32m/home/kenny/anaconda3/envs/plural/lib/python2.7/site-packages/bs4/dammit.pyc\u001b[0m in \u001b[0;36mencodings\u001b[0;34m(self)\u001b[0m\n\u001b[1;32m    262\u001b[0m         \u001b[0;31m# encoding.\u001b[0m\u001b[0;34m\u001b[0m\u001b[0;34m\u001b[0m\u001b[0m\n\u001b[1;32m    263\u001b[0m         \u001b[0;32mif\u001b[0m \u001b[0mself\u001b[0m\u001b[0;34m.\u001b[0m\u001b[0mchardet_encoding\u001b[0m \u001b[0;32mis\u001b[0m \u001b[0mNone\u001b[0m\u001b[0;34m:\u001b[0m\u001b[0;34m\u001b[0m\u001b[0m\n\u001b[0;32m--> 264\u001b[0;31m             \u001b[0mself\u001b[0m\u001b[0;34m.\u001b[0m\u001b[0mchardet_encoding\u001b[0m \u001b[0;34m=\u001b[0m \u001b[0mchardet_dammit\u001b[0m\u001b[0;34m(\u001b[0m\u001b[0mself\u001b[0m\u001b[0;34m.\u001b[0m\u001b[0mmarkup\u001b[0m\u001b[0;34m)\u001b[0m\u001b[0;34m\u001b[0m\u001b[0m\n\u001b[0m\u001b[1;32m    265\u001b[0m         \u001b[0;32mif\u001b[0m \u001b[0mself\u001b[0m\u001b[0;34m.\u001b[0m\u001b[0m_usable\u001b[0m\u001b[0;34m(\u001b[0m\u001b[0mself\u001b[0m\u001b[0;34m.\u001b[0m\u001b[0mchardet_encoding\u001b[0m\u001b[0;34m,\u001b[0m \u001b[0mtried\u001b[0m\u001b[0;34m)\u001b[0m\u001b[0;34m:\u001b[0m\u001b[0;34m\u001b[0m\u001b[0m\n\u001b[1;32m    266\u001b[0m             \u001b[0;32myield\u001b[0m \u001b[0mself\u001b[0m\u001b[0;34m.\u001b[0m\u001b[0mchardet_encoding\u001b[0m\u001b[0;34m\u001b[0m\u001b[0m\n",
      "\u001b[0;32m/home/kenny/anaconda3/envs/plural/lib/python2.7/site-packages/bs4/dammit.pyc\u001b[0m in \u001b[0;36mchardet_dammit\u001b[0;34m(s)\u001b[0m\n\u001b[1;32m     32\u001b[0m         \u001b[0;32mimport\u001b[0m \u001b[0mchardet\u001b[0m\u001b[0;34m\u001b[0m\u001b[0m\n\u001b[1;32m     33\u001b[0m         \u001b[0;32mdef\u001b[0m \u001b[0mchardet_dammit\u001b[0m\u001b[0;34m(\u001b[0m\u001b[0ms\u001b[0m\u001b[0;34m)\u001b[0m\u001b[0;34m:\u001b[0m\u001b[0;34m\u001b[0m\u001b[0m\n\u001b[0;32m---> 34\u001b[0;31m             \u001b[0;32mreturn\u001b[0m \u001b[0mchardet\u001b[0m\u001b[0;34m.\u001b[0m\u001b[0mdetect\u001b[0m\u001b[0;34m(\u001b[0m\u001b[0ms\u001b[0m\u001b[0;34m)\u001b[0m\u001b[0;34m[\u001b[0m\u001b[0;34m'encoding'\u001b[0m\u001b[0;34m]\u001b[0m\u001b[0;34m\u001b[0m\u001b[0m\n\u001b[0m\u001b[1;32m     35\u001b[0m         \u001b[0;31m#import chardet.constants\u001b[0m\u001b[0;34m\u001b[0m\u001b[0;34m\u001b[0m\u001b[0m\n\u001b[1;32m     36\u001b[0m         \u001b[0;31m#chardet.constants._debug = 1\u001b[0m\u001b[0;34m\u001b[0m\u001b[0;34m\u001b[0m\u001b[0m\n",
      "\u001b[0;32m/home/kenny/anaconda3/envs/plural/lib/python2.7/site-packages/chardet/__init__.pyc\u001b[0m in \u001b[0;36mdetect\u001b[0;34m(byte_str)\u001b[0m\n\u001b[1;32m     36\u001b[0m             \u001b[0mbyte_str\u001b[0m \u001b[0;34m=\u001b[0m \u001b[0mbytearray\u001b[0m\u001b[0;34m(\u001b[0m\u001b[0mbyte_str\u001b[0m\u001b[0;34m)\u001b[0m\u001b[0;34m\u001b[0m\u001b[0m\n\u001b[1;32m     37\u001b[0m     \u001b[0mdetector\u001b[0m \u001b[0;34m=\u001b[0m \u001b[0mUniversalDetector\u001b[0m\u001b[0;34m(\u001b[0m\u001b[0;34m)\u001b[0m\u001b[0;34m\u001b[0m\u001b[0m\n\u001b[0;32m---> 38\u001b[0;31m     \u001b[0mdetector\u001b[0m\u001b[0;34m.\u001b[0m\u001b[0mfeed\u001b[0m\u001b[0;34m(\u001b[0m\u001b[0mbyte_str\u001b[0m\u001b[0;34m)\u001b[0m\u001b[0;34m\u001b[0m\u001b[0m\n\u001b[0m\u001b[1;32m     39\u001b[0m     \u001b[0;32mreturn\u001b[0m \u001b[0mdetector\u001b[0m\u001b[0;34m.\u001b[0m\u001b[0mclose\u001b[0m\u001b[0;34m(\u001b[0m\u001b[0;34m)\u001b[0m\u001b[0;34m\u001b[0m\u001b[0m\n",
      "\u001b[0;32m/home/kenny/anaconda3/envs/plural/lib/python2.7/site-packages/chardet/universaldetector.pyc\u001b[0m in \u001b[0;36mfeed\u001b[0;34m(self, byte_str)\u001b[0m\n\u001b[1;32m    209\u001b[0m                 \u001b[0mself\u001b[0m\u001b[0;34m.\u001b[0m\u001b[0m_charset_probers\u001b[0m\u001b[0;34m.\u001b[0m\u001b[0mappend\u001b[0m\u001b[0;34m(\u001b[0m\u001b[0mLatin1Prober\u001b[0m\u001b[0;34m(\u001b[0m\u001b[0;34m)\u001b[0m\u001b[0;34m)\u001b[0m\u001b[0;34m\u001b[0m\u001b[0m\n\u001b[1;32m    210\u001b[0m             \u001b[0;32mfor\u001b[0m \u001b[0mprober\u001b[0m \u001b[0;32min\u001b[0m \u001b[0mself\u001b[0m\u001b[0;34m.\u001b[0m\u001b[0m_charset_probers\u001b[0m\u001b[0;34m:\u001b[0m\u001b[0;34m\u001b[0m\u001b[0m\n\u001b[0;32m--> 211\u001b[0;31m                 \u001b[0;32mif\u001b[0m \u001b[0mprober\u001b[0m\u001b[0;34m.\u001b[0m\u001b[0mfeed\u001b[0m\u001b[0;34m(\u001b[0m\u001b[0mbyte_str\u001b[0m\u001b[0;34m)\u001b[0m \u001b[0;34m==\u001b[0m \u001b[0mProbingState\u001b[0m\u001b[0;34m.\u001b[0m\u001b[0mFOUND_IT\u001b[0m\u001b[0;34m:\u001b[0m\u001b[0;34m\u001b[0m\u001b[0m\n\u001b[0m\u001b[1;32m    212\u001b[0m                     self.result = {'encoding': prober.charset_name,\n\u001b[1;32m    213\u001b[0m                                    \u001b[0;34m'confidence'\u001b[0m\u001b[0;34m:\u001b[0m \u001b[0mprober\u001b[0m\u001b[0;34m.\u001b[0m\u001b[0mget_confidence\u001b[0m\u001b[0;34m(\u001b[0m\u001b[0;34m)\u001b[0m\u001b[0;34m,\u001b[0m\u001b[0;34m\u001b[0m\u001b[0m\n",
      "\u001b[0;32m/home/kenny/anaconda3/envs/plural/lib/python2.7/site-packages/chardet/charsetgroupprober.pyc\u001b[0m in \u001b[0;36mfeed\u001b[0;34m(self, byte_str)\u001b[0m\n\u001b[1;32m     69\u001b[0m             \u001b[0;32mif\u001b[0m \u001b[0;32mnot\u001b[0m \u001b[0mprober\u001b[0m\u001b[0;34m.\u001b[0m\u001b[0mactive\u001b[0m\u001b[0;34m:\u001b[0m\u001b[0;34m\u001b[0m\u001b[0m\n\u001b[1;32m     70\u001b[0m                 \u001b[0;32mcontinue\u001b[0m\u001b[0;34m\u001b[0m\u001b[0m\n\u001b[0;32m---> 71\u001b[0;31m             \u001b[0mstate\u001b[0m \u001b[0;34m=\u001b[0m \u001b[0mprober\u001b[0m\u001b[0;34m.\u001b[0m\u001b[0mfeed\u001b[0m\u001b[0;34m(\u001b[0m\u001b[0mbyte_str\u001b[0m\u001b[0;34m)\u001b[0m\u001b[0;34m\u001b[0m\u001b[0m\n\u001b[0m\u001b[1;32m     72\u001b[0m             \u001b[0;32mif\u001b[0m \u001b[0;32mnot\u001b[0m \u001b[0mstate\u001b[0m\u001b[0;34m:\u001b[0m\u001b[0;34m\u001b[0m\u001b[0m\n\u001b[1;32m     73\u001b[0m                 \u001b[0;32mcontinue\u001b[0m\u001b[0;34m\u001b[0m\u001b[0m\n",
      "\u001b[0;32m/home/kenny/anaconda3/envs/plural/lib/python2.7/site-packages/chardet/utf8prober.pyc\u001b[0m in \u001b[0;36mfeed\u001b[0;34m(self, byte_str)\u001b[0m\n\u001b[1;32m     65\u001b[0m                 \u001b[0;32mbreak\u001b[0m\u001b[0;34m\u001b[0m\u001b[0m\n\u001b[1;32m     66\u001b[0m             \u001b[0;32melif\u001b[0m \u001b[0mcoding_state\u001b[0m \u001b[0;34m==\u001b[0m \u001b[0mMachineState\u001b[0m\u001b[0;34m.\u001b[0m\u001b[0mSTART\u001b[0m\u001b[0;34m:\u001b[0m\u001b[0;34m\u001b[0m\u001b[0m\n\u001b[0;32m---> 67\u001b[0;31m                 \u001b[0;32mif\u001b[0m \u001b[0mself\u001b[0m\u001b[0;34m.\u001b[0m\u001b[0mcoding_sm\u001b[0m\u001b[0;34m.\u001b[0m\u001b[0mget_current_charlen\u001b[0m\u001b[0;34m(\u001b[0m\u001b[0;34m)\u001b[0m \u001b[0;34m>=\u001b[0m \u001b[0;36m2\u001b[0m\u001b[0;34m:\u001b[0m\u001b[0;34m\u001b[0m\u001b[0m\n\u001b[0m\u001b[1;32m     68\u001b[0m                     \u001b[0mself\u001b[0m\u001b[0;34m.\u001b[0m\u001b[0m_num_mb_chars\u001b[0m \u001b[0;34m+=\u001b[0m \u001b[0;36m1\u001b[0m\u001b[0;34m\u001b[0m\u001b[0m\n\u001b[1;32m     69\u001b[0m \u001b[0;34m\u001b[0m\u001b[0m\n",
      "\u001b[0;31mKeyboardInterrupt\u001b[0m: "
     ]
    }
   ],
   "source": [
    "url_base = 'https://researchers.a-star.edu.sg/userprofile.aspx?userid='\n",
    "for id in user_ids.userid:\n",
    "    try:\n",
    "        url=url_base+str(id)\n",
    "        html_page = requests.get(url)\n",
    "        soup_data = soup(html_page.content,'html.parser')\n",
    "        container = soup_data.find('div',{'id':'dnn_ctr429_UserProfile_profile'})\n",
    "        if soup_data.find('span',{'id':'dnn_ctr429_UserProfile_lblUserProfile'}).find('b'):\n",
    "            user_name = soup_data.find('span',{'id':'dnn_ctr429_UserProfile_lblUserProfile'})\n",
    "            user_name = user_name.find('b').text\n",
    "            name=re.sub('- Profile','',user_name)\n",
    "        else :\n",
    "            name=\"null\"\n",
    "        if container.find('span',{'id':'dnn_ctr429_UserProfile_lbluserid'}):\n",
    "            user_id = container.find('span',{'id':'dnn_ctr429_UserProfile_lbluserid'}).text\n",
    "        else :\n",
    "            user_id=\"null\"\n",
    "        if container.find('a',{'id':'dnn_ctr429_UserProfile_lblEmail2'}):\n",
    "            email = container.find('a',{'id':'dnn_ctr429_UserProfile_lblEmail2'}).text\n",
    "        else :\n",
    "            email=\"null\"\n",
    "        if container.find('span',{'id':'dnn_ctr429_UserProfile_lblOrganisation2'}):\n",
    "            organisation = container.find('span',{'id':'dnn_ctr429_UserProfile_lblOrganisation2'}).text\n",
    "        else :\n",
    "            organisation=\"null\"\n",
    "        if container.find('span',{'id':'dnn_ctr429_UserProfile_lblTel2'}):\n",
    "            tel_no = container.find('span',{'id':'dnn_ctr429_UserProfile_lblTel2'}).text\n",
    "        else :\n",
    "            tel_no=\"null\"\n",
    "        if container.find('a',{'id':'dnn_ctr429_UserProfile_hpkUrl'}):\n",
    "            person_url = container.find('a',{'id':'dnn_ctr429_UserProfile_hpkUrl'}).text\n",
    "        else :\n",
    "            person_url=\"null\"\n",
    "        if container.find('table',{'id':'dnn_ctr429_UserProfile_dlKeyword'}) and \\\n",
    "            container.find('table',{'id':'dnn_ctr429_UserProfile_dlKeyword'}).findAll('tr'):\n",
    "            keywords=[]\n",
    "            keywords_table = container.find('table',{'id':'dnn_ctr429_UserProfile_dlKeyword'})\n",
    "            for x in range(0,len(keywords_table.findAll('tr'))):\n",
    "                keywords.append(keywords_table.findAll('tr')[x].get_text().strip().encode(\"utf-8\"))\n",
    "        else :\n",
    "            keywords=[]\n",
    "        if container.find('span',{'id':'dnn_ctr429_UserProfile_lstAreaofResearch'}) and \\\n",
    "            container.find('span',{'id':'dnn_ctr429_UserProfile_lstAreaofResearch'}).findAll('span'):\n",
    "            research_areas=[]\n",
    "            research_area = container.find('span',{'id':'dnn_ctr429_UserProfile_lstAreaofResearch'})\n",
    "            research_area = research_area.findAll('span')\n",
    "            for x in range(0,len(research_area)):\n",
    "                if research_area[x].get_text().strip().encode(\"utf-8\") > '':\n",
    "                    research_areas.append(research_area[x].get_text().strip().encode(\"utf-8\"))\n",
    "        else :\n",
    "            research_areas=[]\n",
    "        if container.find('div',{'id':'dnn_ctr429_UserProfile_tblEducation'}) and \\\n",
    "        container.find('div',{'id':'dnn_ctr429_UserProfile_tblEducation'}).findAll('table'):\n",
    "            eduMainTable = container.find('div',{'id':'dnn_ctr429_UserProfile_tblEducation'}).table\n",
    "            eduSchools = eduMainTable.findAll('table')\n",
    "            schools=[]\n",
    "            for i,table in enumerate(eduSchools):\n",
    "                school=\"\"\n",
    "                for i,entry in enumerate(table.findAll('td')):\n",
    "                    school=school+entry.get_text().strip().encode(\"utf-8\")+\",\"\n",
    "                schools.append(school)\n",
    "        else :\n",
    "            schools=[]\n",
    "            \n",
    "        if container.find('table',{'id':'tblempHistory'}) and \\\n",
    "        container.find('table',{'id':'tblempHistory'}).findAll('table'):\n",
    "            EmpMainTable = container.find('table',{'id':'tblempHistory'})\n",
    "            EmpHistory = EmpMainTable.findAll('table')\n",
    "            companies=[]\n",
    "            for i,table in enumerate(EmpHistory):\n",
    "                if i==0 : continue\n",
    "                company={}\n",
    "                company['designation']=table.findAll('td')[0].get_text().strip().encode(\"utf-8\")\n",
    "                company['duration']=table.findAll('td')[1].get_text().strip().encode(\"utf-8\")\n",
    "                company['organization']=table.findAll('td')[2].get_text().strip().encode(\"utf-8\")\n",
    "                company['country']=table.findAll('td')[3].get_text().strip().encode(\"utf-8\")\n",
    "                companies.append(company)      \n",
    "        else :\n",
    "            companies=[]\n",
    "            \n",
    "        if container.find('table',{'id':'tblPublication2'}) and \\\n",
    "        container.find('table',{'id':'tblPublication2'}).findAll('table'):\n",
    "            PubMainTable = container.find('table',{'id':'tblPublication2'})\n",
    "            pubTables = PubMainTable.findAll('table')\n",
    "            publications=[]\n",
    "\n",
    "            for i,table in enumerate(pubTables):\n",
    "                if i==0 : continue\n",
    "                publication={}\n",
    "                publication['author']=table.findAll('td')[0].get_text().strip().encode(\"utf-8\")\n",
    "                publication['title']=table.findAll('td')[1].get_text().strip().encode(\"utf-8\")\n",
    "                publication['journal']=table.findAll('td')[2].get_text().strip().encode(\"utf-8\")\n",
    "                publication['year']=table.findAll('td')[3].get_text().strip().encode(\"utf-8\")\n",
    "                publication['vol:page']=table.findAll('td')[4].get_text().strip().encode(\"utf-8\")\n",
    "                publications.append(publication)\n",
    "        else :\n",
    "            publications=[]\n",
    "        \n",
    "        if container.find('table',{'id':'tblPatents2'}) and \\\n",
    "        container.find('table',{'id':'tblPatents2'}).findAll('table'):\n",
    "            patMainTable = container.find('table',{'id':'tblPatents2'})\n",
    "            patTables = patMainTable.findAll('table')\n",
    "            patents=[]\n",
    "\n",
    "            for i,table in enumerate(patTables):\n",
    "                if i==0 : continue\n",
    "                patent={}\n",
    "                patent['title']=table.findAll('td')[0].get_text().strip().encode(\"utf-8\")\n",
    "                patent['number']=table.findAll('td')[1].get_text().strip().encode(\"utf-8\")\n",
    "                patent['year_awarded']=table.findAll('td')[2].get_text().strip().encode(\"utf-8\")\n",
    "                patent['country']=table.findAll('td')[3].get_text().strip().encode(\"utf-8\")\n",
    "                patents.append(patent)\n",
    "        else :\n",
    "            patents=[]\n",
    "    except Exception as ex:\n",
    "        name,user_id,email,organisation=0\n",
    "        print ex\n",
    "    \n",
    "    #print name,user_id,email,organisation,tel_no,person_url,keywords, \\\n",
    "            #research_areas,schools,companies,publications,patents\n",
    "    print patents\n"
   ]
  },
  {
   "cell_type": "code",
   "execution_count": 116,
   "metadata": {
    "collapsed": true
   },
   "outputs": [],
   "source": [
    "url_base = 'https://researchers.a-star.edu.sg/userprofile.aspx?userid=5645'\n",
    "html_page = requests.get(url_base)\n",
    "soup_data = soup(html_page.content,'html.parser')\n",
    "container = soup_data.find('div',{'id':'dnn_ctr429_UserProfile_profile'})"
   ]
  },
  {
   "cell_type": "code",
   "execution_count": 118,
   "metadata": {
    "collapsed": true
   },
   "outputs": [
    {
     "name": "stdout",
     "output_type": "stream",
     "text": [
      "[{'country': 'International', 'number': 'WO 2008/121976 A1', 'year_awarded': '2008', 'title': 'Titanium compound and process for asymmetric cyanation of imines'}, {'country': 'India', 'number': 'IN  2001DE00340', 'year_awarded': '2008', 'title': 'A process for the preparation of the water soluble palladium complex'}, {'country': 'India', 'number': 'IN  2001DE00324', 'year_awarded': '2008', 'title': 'A process for the preparation of a saturated carboxylic acid ester'}, {'country': 'India', 'number': 'IN  1999DE00571', 'year_awarded': '2008', 'title': 'An improved process for the preparation of 2-aryl propionic acids.'}, {'country': 'United States', 'number': 'US  2005283020', 'year_awarded': '2005', 'title': 'Process for the preparation of 2-aryl propionic acids by carbonylation of aralkyl alcohols and halides or hydrocarboxylation of aryl olefins in the presence of palladium catalyst, a halide promoter, and an organic acid.'}, {'country': 'India', 'number': 'IN  191234  A1', 'year_awarded': '2003', 'title': 'An improved process for the preparation of 2-arylpropionic acids by carbonylation of olefins using catalysts comprising heterogeneous ruthenium, cobalt, or nickel, phosphine ligands, halide sources, and protonic acids, and application to the manufacture of ibuprofen'}, {'country': 'India', 'number': 'IN  191703  A1', 'year_awarded': '2003', 'title': 'Preparation of 2-aryl propionic acids'}, {'country': 'India', 'number': 'IN  191705  A1', 'year_awarded': '2003', 'title': 'Preparation of 2-aryl propionic acids'}, {'country': 'India', 'number': 'IN  191488  A1', 'year_awarded': '2003', 'title': 'Catalytic carbonylation and hydrolysis process for the preparation of 2-arylpropionic acids from 1-aryl-1-haloethanes'}, {'country': 'India', 'number': 'IN  191704  A1', 'year_awarded': '2003', 'title': 'Preparation of 2-aryl propionic acids'}, {'country': 'India', 'number': 'IN  191706  A1', 'year_awarded': '2003', 'title': 'Preparation of 2-aryl propionic acids'}, {'country': 'India', 'number': 'IN  191702  A1', 'year_awarded': '2003', 'title': 'An improved process for the preparation of 2-arylpropionic acids by carbonylation using catalysts comprising heterogeneous metals, phosphine ligands, halide sources, and protonic acids, and application to the manufacture of ibuprofen and naproxen'}, {'country': 'India', 'number': 'IN  191096  A1', 'year_awarded': '2003', 'title': 'Catalytic carbonylation process for the preparation of 2-arylpropionic acids from 1-arylethanols and carbon monoxide'}, {'country': 'India', 'number': 'IN  191235  A1', 'year_awarded': '2003', 'title': 'An improved process for the preparation of 2-arylpropionic acids by carbonylation of olefins using catalysts comprising heterogeneous rhodium or iridium, phosphine ligands, halide sources, and protonic acids, and application to the manufacture of ibuprofen and naproxen'}, {'country': 'United States', 'number': 'US  6660883', 'year_awarded': '2003', 'title': 'Improved process for the preparation of 2-aryl propionic acids by carbonylation of aralkyl alcohols and halides or hydrocarboxylation of an aryl olefins in the presence of heterogeneous metal-ligand catalyst, a halide source, a protonic acid and water.'}, {'country': 'India', 'number': 'IN  191417  A1', 'year_awarded': '2003', 'title': 'Palladium catalytic carbonylation process for the preparation of 2-arylpropionic acids from 1-arylethanols and carbon monoxide'}, {'country': 'India', 'number': 'IN  191360  A1', 'year_awarded': '2003', 'title': 'An improved process for the preparation of 2-arylpropionic acids by carbonylation of olefins using catalysts comprising heterogeneous palladium or platinum, phosphine ligands, halide sources, and protonic acids, and application to the manufacture of ibuprofen'}, {'country': 'Germany', 'number': 'DE 102 31 905.7', 'year_awarded': '2002', 'title': 'Verfahren zur herstellung von linearen aminen durch hyroaminomethylierung von internen olefinen'}, {'country': 'United States', 'number': 'US  6444844', 'year_awarded': '2002', 'title': 'Process and palladium catalysts for the preparation of carboxylic acids.'}, {'country': 'United States', 'number': 'US  2002137964', 'year_awarded': '2002', 'title': 'Preparation of a saturated carboxylic acid ester and use of water-soluble palladium complex'}, {'country': 'United States', 'number': 'US  6294687', 'year_awarded': '2001', 'title': 'Preparation of saturated carboxylic acids and their esters from olefins using catalysts without excessive ligands'}, {'country': 'United States', 'number': 'US  6093847', 'year_awarded': '2000', 'title': 'Process for the preparation of ibuprofen'}, {'country': 'United States', 'number': 'US  6069253', 'year_awarded': '2000', 'title': 'Process for the preparation of new Group VIII transition metal complexes containing a semilabile N-O donor chelate ligand, a phosphine ligand, and an acid or halide group'}]\n"
     ]
    }
   ],
   "source": [
    "patMainTable = container.find('table',{'id':'tblPatents2'})\n",
    "patTables = patMainTable.findAll('table')\n",
    "patents=[]\n",
    "\n",
    "for i,table in enumerate(patTables):\n",
    "    if i==0 : continue\n",
    "    patent={}\n",
    "    patent['title']=table.findAll('td')[0].get_text().strip().encode(\"utf-8\")\n",
    "    patent['number']=table.findAll('td')[1].get_text().strip().encode(\"utf-8\")\n",
    "    patent['year_awarded']=table.findAll('td')[2].get_text().strip().encode(\"utf-8\")\n",
    "    patent['country']=table.findAll('td')[3].get_text().strip().encode(\"utf-8\")\n",
    "    patents.append(patent)\n",
    "print patents\n"
   ]
  },
  {
   "cell_type": "code",
   "execution_count": 95,
   "metadata": {
    "collapsed": true
   },
   "outputs": [],
   "source": []
  },
  {
   "cell_type": "code",
   "execution_count": 16,
   "metadata": {},
   "outputs": [
    {
     "name": "stdout",
     "output_type": "stream",
     "text": [
      "ProjectInstitution/OrganizationNameDescriptionFromYearToYear\n",
      "Project\n",
      "Institution/OrganizationName\n",
      "Description\n",
      "FromYear\n",
      "ToYear\n",
      "DevelopmentofAsymmetricCatalystsforAsymmetricMitsuiChemicalsDevelopmentofnewcatalystsandprocessforasymmetricC-Cbndformingreactions20062012\n",
      "DevelopmentofAsymmetricCatalystsforAsymmetric\n",
      "MitsuiChemicals\n",
      "DevelopmentofnewcatalystsandprocessforasymmetricC-Cbndformingreactions\n",
      "2006\n",
      "2012\n"
     ]
    }
   ],
   "source": [
    "c = 'dnn_ctr429_UserProfile_tblAwards'\n",
    "e = 'dnn_ctr429_UserProfile_tblCollaborations'\n",
    "f = 'dnn_ctr429_UserProfile_tblGrant'"
   ]
  },
  {
   "cell_type": "code",
   "execution_count": null,
   "metadata": {},
   "outputs": [],
   "source": []
  }
 ],
 "metadata": {
  "kernelspec": {
   "display_name": "Python 2",
   "language": "python",
   "name": "python2"
  },
  "language_info": {
   "codemirror_mode": {
    "name": "ipython",
    "version": 2
   },
   "file_extension": ".py",
   "mimetype": "text/x-python",
   "name": "python",
   "nbconvert_exporter": "python",
   "pygments_lexer": "ipython2",
   "version": "2.7.14"
  }
 },
 "nbformat": 4,
 "nbformat_minor": 1
}
