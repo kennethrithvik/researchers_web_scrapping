{
 "cells": [
  {
   "cell_type": "code",
   "execution_count": 28,
   "metadata": {},
   "outputs": [],
   "source": [
    "import requests \n",
    "from bs4 import BeautifulSoup as soup\n",
    "import re\n",
    "import numpy as np\n",
    "import pandas as pd\n",
    "\n",
    "from pymongo import MongoClient"
   ]
  },
  {
   "cell_type": "code",
   "execution_count": 29,
   "metadata": {},
   "outputs": [],
   "source": [
    "url_base = 'http://www.researcherid.com/PartialProfileSearch.action?criteria.requestedPage.size=1000&criteria.requestedPage.number=1&criteria.sortBy=Name&criteria.country=United%20States'\n",
    "#url_base=\"http://www.researcherid.com/rid/E-6522-2011\"\n",
    "html_page = requests.get(url_base)\n",
    "soup_data = soup(html_page.content,'html.parser')\n"
   ]
  },
  {
   "cell_type": "code",
   "execution_count": 63,
   "metadata": {},
   "outputs": [],
   "source": [
    "from selenium import webdriver\n",
    "driver = webdriver.PhantomJS()\n",
    "driver.maximize_window()\n",
    "driver.get(url_base)\n",
    "driver.save_screenshot('screen.png')\n",
    "driver.quit()\n",
    "#driver.find_element_by_class_name('resultsTableRow1')"
   ]
  },
  {
   "cell_type": "code",
   "execution_count": null,
   "metadata": {},
   "outputs": [],
   "source": [
    "user_ids=[]"
   ]
  },
  {
   "cell_type": "code",
   "execution_count": null,
   "metadata": {},
   "outputs": [],
   "source": [
    "html_url='http://127.0.0.1:8080/researcher_id/u_10000.html'\n",
    "html_page = requests.get(html_url)\n",
    "soup_data = soup(html_page.content,'html.parser')"
   ]
  },
  {
   "cell_type": "code",
   "execution_count": null,
   "metadata": {},
   "outputs": [],
   "source": [
    "rows=soup_data.find_all('tr')"
   ]
  },
  {
   "cell_type": "code",
   "execution_count": null,
   "metadata": {},
   "outputs": [],
   "source": [
    "rows[1].find_all('td')[4].get_text().strip().encode(\"utf-8\")"
   ]
  },
  {
   "cell_type": "code",
   "execution_count": 64,
   "metadata": {},
   "outputs": [],
   "source": [
    "for i,row in enumerate(rows):\n",
    "    if i==0 : continue\n",
    "    id=row.find_all('td')[4].get_text().strip().encode(\"utf-8\")\n",
    "    user_ids.append(id)\n"
   ]
  },
  {
   "cell_type": "code",
   "execution_count": 67,
   "metadata": {},
   "outputs": [],
   "source": [
    "users=pd.DataFrame(np.array(user_ids),columns=[\"user_ids\"])\n",
    "users.to_csv(\"user_ids\")"
   ]
  },
  {
   "cell_type": "code",
   "execution_count": null,
   "metadata": {},
   "outputs": [],
   "source": []
  }
 ],
 "metadata": {
  "kernelspec": {
   "display_name": "Python 2",
   "language": "python",
   "name": "python2"
  },
  "language_info": {
   "codemirror_mode": {
    "name": "ipython",
    "version": 2
   },
   "file_extension": ".py",
   "mimetype": "text/x-python",
   "name": "python",
   "nbconvert_exporter": "python",
   "pygments_lexer": "ipython2",
   "version": "2.7.14"
  }
 },
 "nbformat": 4,
 "nbformat_minor": 2
}
